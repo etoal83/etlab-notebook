{
 "cells": [
  {
   "cell_type": "markdown",
   "metadata": {},
   "source": [
    "# Tic-tac-toe Agent with Reinforcement Learning\n",
    "\n",
    "* Author: EtoAl\n",
    "* Status: Work in progress\n",
    "* Last update: 2021-05-30\n",
    "* Version: 0.1\n"
   ]
  },
  {
   "cell_type": "markdown",
   "metadata": {},
   "source": [
    "## Symmetry of the board\n",
    "\n",
    "A tic-tac-toe board has a square shape and therefore has symmetries:\n",
    "point symmetry, 4-fold rotational symmetry,\n",
    "and mirror symmetries with respect to 4 axes (i.e. horizontal, vertical, and 2 diagonal ones.)\n",
    "Even though the actual cells marked either \"O\" or \"X\" on a board is different,\n",
    "we can regard the state of the board equivalent to another state via those symmetries.\n",
    "Thus, identifying symmetric states helps us to reduce the number of states to consider.\n",
    "\n",
    "Let's label the cells on a board by integers like this:\n",
    "\n",
    "```\n",
    "+---+---+---+\n",
    "| 1 | 2 | 3 |\n",
    "+---+---+---+\n",
    "| 4 | 5 | 6 |\n",
    "+---+---+---+\n",
    "| 7 | 8 | 9 |\n",
    "+---+---+---+\n",
    "```\n",
    "\n",
    "\n"
   ]
  },
  {
   "cell_type": "markdown",
   "metadata": {},
   "source": [
    "In this report, a state of the board is represented as a 2-dimensional array:\n",
    "\n",
    "```rs\n",
    "let state = array![\n",
    "  [1, 2, 3],\n",
    "  [4, 5, 6],\n",
    "  [7, 8, 9]\n",
    "];\n",
    "```\n",
    "\n"
   ]
  },
  {
   "cell_type": "code",
   "execution_count": 13,
   "metadata": {},
   "outputs": [
    {
     "name": "stdout",
     "output_type": "stream",
     "text": [
      "+---+---+---+\n",
      "| 1 | 2 | 3 |\n",
      "+---+---+---+\n",
      "| 4 | 5 | 6 |\n",
      "+---+---+---+\n",
      "| 7 | 8 | 9 |\n",
      "+---+---+---+\n"
     ]
    }
   ],
   "source": [
    ":dep ndarray = \"0.15\"\n",
    "\n",
    "#[macro_use]\n",
    "extern crate ndarray as na;\n",
    "\n",
    "use na::prelude::*;\n",
    "\n",
    "type Board = Array2<u8>;\n",
    "\n",
    "let raw_board: Board = array![\n",
    "    [1, 2, 3],\n",
    "    [4, 5, 6],\n",
    "    [7, 8, 9]\n",
    "];\n",
    "\n",
    "fn print_board(board: Board) {\n",
    "    for row in board.genrows() {\n",
    "        println!(\"+---+---+---+\");\n",
    "        println!(\"| {} | {} | {} |\", row[0], row[1], row[2]);\n",
    "    }\n",
    "    println!(\"+---+---+---+\");\n",
    "}\n",
    "\n",
    "print_board(raw_board);\n"
   ]
  },
  {
   "cell_type": "markdown",
   "metadata": {},
   "source": []
  }
 ],
 "metadata": {
  "kernelspec": {
   "display_name": "Rust",
   "language": "rust",
   "name": "rust"
  },
  "language_info": {
   "codemirror_mode": "rust",
   "file_extension": ".rs",
   "mimetype": "text/rust",
   "name": "Rust",
   "pygment_lexer": "rust",
   "version": ""
  }
 },
 "nbformat": 4,
 "nbformat_minor": 2
}
